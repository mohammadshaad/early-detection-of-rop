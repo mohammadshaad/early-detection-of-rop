{
  "cells": [
    {
      "cell_type": "code",
      "execution_count": 1,
      "metadata": {
        "id": "jznHnPkktTQX"
      },
      "outputs": [],
      "source": [
        "import pandas as pd\n",
        "from keras.utils import to_categorical\n",
        "import random\n",
        "import numpy as np\n",
        "import os\n",
        "import matplotlib.pyplot as plt\n",
        "\n",
        "from sklearn.model_selection import train_test_split\n",
        "from tensorflow.keras.layers import Input, Lambda, Dense, Flatten, Conv2D, MaxPooling2D, Dropout, Activation, BatchNormalization\n",
        "from tensorflow.keras.models import Model\n",
        "from tensorflow.keras.applications.inception_v3 import InceptionV3\n",
        "from keras.applications.vgg16 import VGG16\n",
        "from keras.applications.vgg19 import VGG19\n",
        "from tensorflow.keras.applications.inception_v3 import preprocess_input\n",
        "from tensorflow.keras.preprocessing import image\n",
        "from tensorflow.keras.preprocessing.image import ImageDataGenerator,load_img, array_to_img, img_to_array\n",
        "from tensorflow.keras.models import Sequential\n",
        "from glob import glob\n",
        "import zipfile\n",
        "import tensorflow as tf\n",
        "from tensorflow.keras.preprocessing.image import ImageDataGenerator\n",
        "from tensorflow.keras.models import Sequential\n",
        "from tensorflow.keras.layers import Conv2D, MaxPooling2D, Flatten, Dense\n",
        "import tensorflow as tf\n",
        "from tensorflow.keras.preprocessing.image import ImageDataGenerator\n",
        "from tensorflow.keras.applications import InceptionV3\n",
        "from tensorflow.keras.layers import GlobalAveragePooling2D, Dense\n",
        "from tensorflow.keras.models import Model\n",
        "import tensorflow as tf\n",
        "from tensorflow.keras.preprocessing.image import ImageDataGenerator\n",
        "from tensorflow.keras.applications import ResNet50\n",
        "from tensorflow.keras.layers import GlobalAveragePooling2D, Dense\n",
        "from tensorflow.keras.models import Model\n",
        "import tensorflow as tf\n",
        "from tensorflow.keras.preprocessing.image import ImageDataGenerator\n",
        "from tensorflow.keras.layers import GlobalAveragePooling2D, Dense\n",
        "from tensorflow.keras.models import Model\n",
        "import tensorflow as tf\n",
        "from tensorflow.keras.models import Sequential, Model\n",
        "from tensorflow.keras.layers import Conv2D, MaxPooling2D, Flatten, Dense, LSTM, Input, TimeDistributed\n",
        "from tensorflow.keras.optimizers import Adam\n",
        "from tensorflow.keras.applications import InceptionV3\n",
        "from tensorflow.keras import layers, models\n",
        "from tensorflow.keras.optimizers import Adam\n",
        "from tensorflow.keras.preprocessing.image import ImageDataGenerator\n",
        "from tensorflow.keras.applications import DenseNet201\n",
        "from tensorflow.keras.applications import MobileNet\n",
        "from tensorflow.keras import layers, models\n",
        "from tensorflow.keras.optimizers import Adam"
      ]
    },
    {
      "cell_type": "code",
      "execution_count": 2,
      "metadata": {
        "colab": {
          "base_uri": "https://localhost:8080/"
        },
        "id": "VCToI8r4pS2F",
        "outputId": "1e5b9ee2-3c89-41a1-95e9-8b39c32a5af2"
      },
      "outputs": [
        {
          "output_type": "stream",
          "name": "stdout",
          "text": [
            "Mounted at /content/drive\n"
          ]
        }
      ],
      "source": [
        "from google.colab import drive\n",
        "drive.mount('/content/drive')"
      ]
    },
    {
      "cell_type": "code",
      "execution_count": 3,
      "metadata": {
        "id": "ulrw06DytY1C"
      },
      "outputs": [],
      "source": [
        "zip1 = zipfile.ZipFile('/content/drive/MyDrive/DR/MultispectralColourEq.zip')\n",
        "list1= zip1.namelist()\n",
        "with zipfile.ZipFile('/content/drive/MyDrive/DR/MultispectralColourEq.zip',\"r\") as zip_ref:\n",
        "    z1=zip_ref.extractall()"
      ]
    },
    {
      "cell_type": "code",
      "execution_count": 4,
      "metadata": {
        "id": "ISvmu_wru8sk"
      },
      "outputs": [],
      "source": [
        "from tensorflow.keras.preprocessing.image import ImageDataGenerator\n",
        "\n",
        "train_datagen = ImageDataGenerator(rescale = 1./255,\n",
        "                                   shear_range = 0.2,\n",
        "                                   zoom_range = 0.2,\n",
        "                                   horizontal_flip = True)\n",
        "\n",
        "test_datagen = ImageDataGenerator(rescale = 1./255)"
      ]
    },
    {
      "cell_type": "code",
      "execution_count": 5,
      "metadata": {
        "colab": {
          "base_uri": "https://localhost:8080/"
        },
        "id": "BRCJDgYD5IIq",
        "outputId": "e5abebca-4c2d-4a8f-9fa5-d7b1415154c3"
      },
      "outputs": [
        {
          "output_type": "stream",
          "name": "stdout",
          "text": [
            "Collecting split-folders\n",
            "  Downloading split_folders-0.5.1-py3-none-any.whl (8.4 kB)\n",
            "Installing collected packages: split-folders\n",
            "Successfully installed split-folders-0.5.1\n"
          ]
        }
      ],
      "source": [
        "pip install split-folders"
      ]
    },
    {
      "cell_type": "code",
      "execution_count": 6,
      "metadata": {
        "colab": {
          "base_uri": "https://localhost:8080/"
        },
        "id": "q9OdIlAN5SKz",
        "outputId": "de1d5988-d883-408c-a6d8-53d8afc39a5e"
      },
      "outputs": [
        {
          "output_type": "stream",
          "name": "stderr",
          "text": [
            "Copying files: 1000 files [00:00, 2055.10 files/s]"
          ]
        },
        {
          "output_type": "stream",
          "name": "stdout",
          "text": [
            "Data splitting completed.\n"
          ]
        },
        {
          "output_type": "stream",
          "name": "stderr",
          "text": [
            "\n"
          ]
        }
      ],
      "source": [
        "import splitfolders\n",
        "source_folder = '/content/MultispectralColourEq'\n",
        "\n",
        "\n",
        "output_folder = 'split_data2'\n",
        "\n",
        "\n",
        "splitfolders.ratio(source_folder, output=output_folder, ratio=(0.7, 0.3))\n",
        "\n",
        "print(\"Data splitting completed.\")"
      ]
    },
    {
      "cell_type": "code",
      "source": [
        "gpus = tf.config.experimental.list_physical_devices('GPU')\n",
        "if gpus:\n",
        "    for gpu in gpus:\n",
        "        tf.config.experimental.set_memory_growth(gpu, True)\n",
        "    strategy = tf.distribute.OneDeviceStrategy(\"/device:GPU:0\")  # Use the first available GPU (T4 GPU)\n",
        "else:\n",
        "    strategy = tf.distribute.OneDeviceStrategy(\"/device:CPU:0\")"
      ],
      "metadata": {
        "id": "HYH2rCXhFxL0"
      },
      "execution_count": 7,
      "outputs": []
    },
    {
      "cell_type": "code",
      "execution_count": 8,
      "metadata": {
        "colab": {
          "base_uri": "https://localhost:8080/"
        },
        "id": "4DRN_u0cNT9K",
        "outputId": "8f616625-86d4-4a2d-9186-48adb0751745"
      },
      "outputs": [
        {
          "output_type": "stream",
          "name": "stdout",
          "text": [
            "Found 700 images belonging to 4 classes.\n",
            "Found 300 images belonging to 4 classes.\n"
          ]
        }
      ],
      "source": [
        "with strategy.scope():\n",
        "    train_datagen = ImageDataGenerator(rescale=1.0/255.0)\n",
        "    test_datagen = ImageDataGenerator(rescale=1.0/255.0)\n",
        "\n",
        "    train_dir = '/content/split_data2/train'\n",
        "    test_dir = '/content/split_data2/val'\n",
        "\n",
        "    train_generator = train_datagen.flow_from_directory(\n",
        "        train_dir,\n",
        "        target_size=(224, 224),\n",
        "        batch_size=32,\n",
        "        class_mode='categorical',  # Multi-class classification\n",
        "    )\n",
        "\n",
        "    test_generator = test_datagen.flow_from_directory(\n",
        "        test_dir,\n",
        "        target_size=(224, 224),\n",
        "        batch_size=32,\n",
        "        class_mode='categorical',  # Multi-class classification\n",
        "    )"
      ]
    },
    {
      "cell_type": "code",
      "execution_count": 9,
      "metadata": {
        "id": "25AeQ20gDdD2"
      },
      "outputs": [],
      "source": [
        "# InceptionV3 Model\n",
        "\n",
        "def InceptionV3Model():\n",
        "  base_model = InceptionV3(include_top=False, weights='imagenet', input_shape=(224, 224, 3))\n",
        "  for layer in base_model.layers:\n",
        "    layer.trainable = False\n",
        "  x = base_model.output\n",
        "  x = layers.GlobalAveragePooling2D()(x)\n",
        "  x = layers.Dense(128, activation='relu')(x)\n",
        "  x = layers.Dense(4, activation='softmax')(x)  # Four classes: Stage 1, Stage 2, Stage 3, No ROP\n",
        "  model = models.Model(inputs=base_model.input, outputs=x)\n",
        "  model.compile(optimizer=Adam(lr=0.001),\n",
        "              loss='categorical_crossentropy',\n",
        "              metrics=['accuracy'])\n",
        "  model.summary()\n",
        "  r = model.fit_generator(\n",
        "  train_generator,\n",
        "  validation_data=test_generator,\n",
        "  epochs=10,\n",
        "  steps_per_epoch=len(train_generator),\n",
        "  validation_steps=len(test_generator))\n",
        "  test_loss, test_accuracy = model.evaluate(test_generator)\n",
        "  train_loss, train_accuracy = model.evaluate(train_generator)\n",
        "  print(f\"InceptionV3 Train Accuracy: {train_accuracy * 100:.2f}%\")\n",
        "  print(f\"InceptionV3 Test Accuracy: {test_accuracy * 100:.2f}%\")\n"
      ]
    },
    {
      "cell_type": "code",
      "execution_count": 10,
      "metadata": {
        "id": "Rgs-vJt6EWHU"
      },
      "outputs": [],
      "source": [
        "# ResNet50 Model\n",
        "\n",
        "def ResNet50Model():\n",
        "  base_model = ResNet50(weights='imagenet', include_top=False, input_shape=(224, 224, 3))\n",
        "  for layer in base_model.layers:\n",
        "    layer.trainable = False\n",
        "  x = base_model.output\n",
        "  x = layers.GlobalAveragePooling2D()(x)\n",
        "  x = layers.Dense(128, activation='relu')(x)\n",
        "  x = layers.Dense(4, activation='softmax')(x)  # Four classes: Stage 1, Stage 2, Stage 3, No ROP\n",
        "  model = models.Model(inputs=base_model.input, outputs=x)\n",
        "  model.compile(optimizer=Adam(lr=0.001),\n",
        "              loss='categorical_crossentropy',\n",
        "              metrics=['accuracy'])\n",
        "  model.summary()\n",
        "  r = model.fit_generator(\n",
        "  train_generator,\n",
        "  validation_data=test_generator,\n",
        "  epochs=10,\n",
        "  steps_per_epoch=len(train_generator),\n",
        "  validation_steps=len(test_generator))\n",
        "  test_loss, test_accuracy = model.evaluate(test_generator)\n",
        "  train_loss, train_accuracy = model.evaluate(train_generator)\n",
        "  print(f\"ResNet50 Train Accuracy: {train_accuracy * 100:.2f}%\")\n",
        "  print(f\"ResNet50 Test Accuracy: {test_accuracy * 100:.2f}%\")"
      ]
    },
    {
      "cell_type": "code",
      "execution_count": 11,
      "metadata": {
        "id": "_Gcq_ZisLS76"
      },
      "outputs": [],
      "source": [
        "# VGG16 Model\n",
        "\n",
        "def VGG16Model():\n",
        "  base_model = VGG16(weights='imagenet', include_top=False, input_shape=(224, 224, 3))\n",
        "  for layer in base_model.layers:\n",
        "    layer.trainable = False\n",
        "  x = base_model.output\n",
        "  x = layers.Flatten()(x)\n",
        "  x = layers.Dense(128, activation='relu')(x)\n",
        "  x = layers.Dense(4, activation='softmax')(x)  # Four classes: Stage 1, Stage 2, Stage 3, No ROP\n",
        "  model = models.Model(inputs=base_model.input, outputs=x)\n",
        "  model.compile(optimizer=Adam(lr=0.001),\n",
        "              loss='categorical_crossentropy',\n",
        "              metrics=['accuracy'])\n",
        "  model.summary()\n",
        "  r = model.fit_generator(\n",
        "  train_generator,\n",
        "  validation_data=test_generator,\n",
        "  epochs=10,\n",
        "  steps_per_epoch=len(train_generator),\n",
        "  validation_steps=len(test_generator))\n",
        "  test_loss, test_accuracy = model.evaluate(test_generator)\n",
        "  train_loss, train_accuracy = model.evaluate(train_generator)\n",
        "  print(f\"VGG16 Train Accuracy: {train_accuracy * 100:.2f}%\")\n",
        "  print(f\"VGG16 Test Accuracy: {test_accuracy * 100:.2f}%\")\n",
        "\n"
      ]
    },
    {
      "cell_type": "code",
      "execution_count": 12,
      "metadata": {
        "id": "5Jogt1UJebE1"
      },
      "outputs": [],
      "source": [
        "# VGG19 Model\n",
        "\n",
        "def VGG19Model():\n",
        "  base_model = VGG19(weights='imagenet', include_top=False, input_shape=(224, 224, 3))\n",
        "  for layer in base_model.layers:\n",
        "    layer.trainable = False\n",
        "  x = base_model.output\n",
        "  x = layers.Flatten()(x)\n",
        "  x = layers.Dense(128, activation='relu')(x)\n",
        "  x = layers.Dense(4, activation='softmax')(x)  # Four classes: Stage 1, Stage 2, Stage 3, No ROP\n",
        "  model = models.Model(inputs=base_model.input, outputs=x)\n",
        "  model.compile(optimizer=Adam(lr=0.001),\n",
        "              loss='categorical_crossentropy',\n",
        "              metrics=['accuracy'])\n",
        "  model.summary()\n",
        "  r = model.fit_generator(\n",
        "  train_generator,\n",
        "  validation_data=test_generator,\n",
        "  epochs=10,\n",
        "  steps_per_epoch=len(train_generator),\n",
        "  validation_steps=len(test_generator))\n",
        "  test_loss, test_accuracy = model.evaluate(test_generator)\n",
        "  train_loss, train_accuracy = model.evaluate(train_generator)\n",
        "  print(f\"VGG19 Train Accuracy: {train_accuracy * 100:.2f}%\")\n",
        "  print(f\"VGG19 Test Accuracy: {test_accuracy * 100:.2f}%\")"
      ]
    },
    {
      "cell_type": "code",
      "execution_count": 13,
      "metadata": {
        "id": "kdAITyAkQXAp"
      },
      "outputs": [],
      "source": [
        "# DenseNet201 Model\n",
        "\n",
        "def DenseNet201Model():\n",
        "  base_model = DenseNet201(weights='imagenet', include_top=False, input_shape=(224, 224, 3))\n",
        "  for layer in base_model.layers:\n",
        "    layer.trainable = False\n",
        "  x = base_model.output\n",
        "  x = layers.GlobalAveragePooling2D()(x)\n",
        "  x = layers.Dense(128, activation='relu')(x)\n",
        "  x = layers.Dense(4, activation='softmax')(x)  # Four classes: Stage 1, Stage 2, Stage 3, No ROP\n",
        "  model = models.Model(inputs=base_model.input, outputs=x)\n",
        "  model.compile(optimizer=Adam(lr=0.001),\n",
        "              loss='categorical_crossentropy',\n",
        "              metrics=['accuracy'])\n",
        "  model.summary()\n",
        "  r = model.fit_generator(\n",
        "  train_generator,\n",
        "  validation_data=test_generator,\n",
        "  epochs=10,\n",
        "  steps_per_epoch=len(train_generator),\n",
        "  validation_steps=len(test_generator))\n",
        "  test_loss, test_accuracy = model.evaluate(test_generator)\n",
        "  train_loss, train_accuracy = model.evaluate(train_generator)\n",
        "  print(f\"DenseNet201 Train Accuracy: {train_accuracy * 100:.2f}%\")\n",
        "  print(f\"DenseNet201 Test Accuracy: {test_accuracy * 100:.2f}%\")"
      ]
    },
    {
      "cell_type": "code",
      "execution_count": 14,
      "metadata": {
        "id": "5u5lxbXvg5Kw"
      },
      "outputs": [],
      "source": [
        "# MobileNet Model\n",
        "\n",
        "def MobileNetModel():\n",
        "  base_model = MobileNet(weights='imagenet', include_top=False, input_shape=(224, 224, 3))\n",
        "  for layer in base_model.layers:\n",
        "    layer.trainable = False\n",
        "  x = base_model.output\n",
        "  x = layers.GlobalAveragePooling2D()(x)\n",
        "  x = layers.Dense(128, activation='relu')(x)\n",
        "  x = layers.Dense(4, activation='softmax')(x)  # Four classes: Stage 1, Stage 2, Stage 3, No ROP\n",
        "  model = models.Model(inputs=base_model.input, outputs=x)\n",
        "  model.compile(optimizer=Adam(lr=0.001),\n",
        "              loss='categorical_crossentropy',\n",
        "              metrics=['accuracy'])\n",
        "  model.summary()\n",
        "  r = model.fit_generator(\n",
        "  train_generator,\n",
        "  validation_data=test_generator,\n",
        "  epochs=10,\n",
        "  steps_per_epoch=len(train_generator),\n",
        "  validation_steps=len(test_generator))\n",
        "  test_loss, test_accuracy = model.evaluate(test_generator)\n",
        "  train_loss, train_accuracy = model.evaluate(train_generator)\n",
        "  print(f\"MobileNet Train Accuracy: {train_accuracy * 100:.2f}%\")\n",
        "  print(f\"MobileNet Test Accuracy: {test_accuracy * 100:.2f}%\")\n"
      ]
    },
    {
      "cell_type": "code",
      "execution_count": 15,
      "metadata": {
        "id": "vOHolc3sgIqE"
      },
      "outputs": [],
      "source": [
        "# AlexNet Model\n",
        "def AlexNetModel():\n",
        "  model = models.Sequential()\n",
        "\n",
        "  model.add(layers.Conv2D(96, (11, 11), strides=(4, 4), activation='relu', input_shape=(224, 224, 3)))\n",
        "  model.add(layers.MaxPooling2D((3, 3), strides=(2, 2)))\n",
        "  model.add(layers.Conv2D(256, (5, 5), activation='relu'))\n",
        "  model.add(layers.MaxPooling2D((3, 3), strides=(2, 2)))\n",
        "  model.add(layers.Conv2D(384, (3, 3), activation='relu'))\n",
        "  model.add(layers.Conv2D(384, (3, 3), activation='relu'))\n",
        "  model.add(layers.Conv2D(256, (3, 3), activation='relu'))\n",
        "  model.add(layers.MaxPooling2D((3, 3), strides=(2, 2)))\n",
        "\n",
        "  model.add(layers.Flatten())\n",
        "  model.add(layers.Dense(4096, activation='relu'))\n",
        "  model.add(layers.Dropout(0.5))\n",
        "  model.add(layers.Dense(4096, activation='relu'))\n",
        "  model.add(layers.Dropout(0.5))\n",
        "  model.add(layers.Dense(4, activation='softmax'))  # Four classes: Stage 1, Stage 2, Stage 3, No ROP\n",
        "\n",
        "  model.compile(optimizer=Adam(lr=0.001),\n",
        "              loss='categorical_crossentropy',\n",
        "              metrics=['accuracy'])\n",
        "  model.summary()\n",
        "\n",
        "  r = model.fit_generator(\n",
        "  train_generator,\n",
        "  validation_data=test_generator,\n",
        "  epochs=10,\n",
        "  steps_per_epoch=len(train_generator),\n",
        "  validation_steps=len(test_generator))\n",
        "  test_loss, test_accuracy = model.evaluate(test_generator)\n",
        "  train_loss, train_accuracy = model.evaluate(train_generator)\n",
        "  print(f\"AlexNet Train Accuracy: {train_accuracy * 100:.2f}%\")\n",
        "  print(f\"AlexNet Test Accuracy: {test_accuracy * 100:.2f}%\")\n"
      ]
    },
    {
      "cell_type": "code",
      "source": [
        "# Define the CNN model within the strategy scope\n",
        "with strategy.scope():\n",
        "    input_shape = (224, 224, 3)\n",
        "    inputs = Input(shape=input_shape)\n",
        "    x = Conv2D(64, (3, 3), activation='relu')(inputs)\n",
        "    x = MaxPooling2D((2, 2))(x)\n",
        "    x = Conv2D(128, (3, 3), activation='relu')(x)\n",
        "    x = MaxPooling2D((2, 2))(x)\n",
        "    x = Conv2D(256, (3, 3), activation='relu')(x)\n",
        "    x = MaxPooling2D((2, 2))(x)\n",
        "    x = Flatten()(x)\n",
        "    x = Dense(128, activation='relu')(x)\n",
        "    output = Dense(4, activation='softmax')(x)  # 4 classes (No_ROP, Stage_1, Stage_2, Stage_3)\n",
        "\n",
        "    model = Model(inputs=inputs, outputs=output)\n",
        "\n",
        "    # Compile the model\n",
        "    model.compile(optimizer=Adam(), loss='categorical_crossentropy', metrics=['accuracy'])\n",
        "\n",
        "# Train the model using the available GPU (T4 GPU)\n",
        "with strategy.scope():\n",
        "    history = model.fit(\n",
        "        train_generator,\n",
        "        validation_data=test_generator,\n",
        "        epochs=10,\n",
        "        steps_per_epoch=len(train_generator),\n",
        "        validation_steps=len(test_generator)\n",
        "    )\n",
        "\n",
        "# Evaluate the model\n",
        "test_loss, test_accuracy = model.evaluate(test_generator)\n",
        "print(f\"Test Accuracy: {test_accuracy * 100:.2f}%\")"
      ],
      "metadata": {
        "colab": {
          "base_uri": "https://localhost:8080/"
        },
        "id": "K4k7fpMODTn8",
        "outputId": "2f49a7ee-91bc-4351-c22b-a46f22a48754"
      },
      "execution_count": 16,
      "outputs": [
        {
          "output_type": "stream",
          "name": "stdout",
          "text": [
            "Epoch 1/10\n",
            "22/22 [==============================] - 30s 624ms/step - loss: 1.6780 - accuracy: 0.2957 - val_loss: 1.2124 - val_accuracy: 0.4767\n",
            "Epoch 2/10\n",
            "22/22 [==============================] - 12s 560ms/step - loss: 1.0819 - accuracy: 0.5257 - val_loss: 0.9556 - val_accuracy: 0.6200\n",
            "Epoch 3/10\n",
            "22/22 [==============================] - 12s 560ms/step - loss: 0.8937 - accuracy: 0.5986 - val_loss: 0.7931 - val_accuracy: 0.6467\n",
            "Epoch 4/10\n",
            "22/22 [==============================] - 12s 553ms/step - loss: 0.7054 - accuracy: 0.7257 - val_loss: 0.7222 - val_accuracy: 0.7200\n",
            "Epoch 5/10\n",
            "22/22 [==============================] - 12s 567ms/step - loss: 0.5486 - accuracy: 0.8043 - val_loss: 0.7117 - val_accuracy: 0.7200\n",
            "Epoch 6/10\n",
            "22/22 [==============================] - 12s 556ms/step - loss: 0.5000 - accuracy: 0.8114 - val_loss: 0.5947 - val_accuracy: 0.7667\n",
            "Epoch 7/10\n",
            "22/22 [==============================] - 12s 562ms/step - loss: 0.4219 - accuracy: 0.8371 - val_loss: 0.5179 - val_accuracy: 0.8200\n",
            "Epoch 8/10\n",
            "22/22 [==============================] - 13s 579ms/step - loss: 0.2635 - accuracy: 0.9229 - val_loss: 0.5246 - val_accuracy: 0.8767\n",
            "Epoch 9/10\n",
            "22/22 [==============================] - 13s 599ms/step - loss: 0.4213 - accuracy: 0.8443 - val_loss: 0.5655 - val_accuracy: 0.7833\n",
            "Epoch 10/10\n",
            "22/22 [==============================] - 13s 605ms/step - loss: 0.2786 - accuracy: 0.9043 - val_loss: 0.4177 - val_accuracy: 0.8867\n",
            "10/10 [==============================] - 4s 385ms/step - loss: 0.4177 - accuracy: 0.8867\n",
            "Test Accuracy: 88.67%\n"
          ]
        }
      ]
    }
  ],
  "metadata": {
    "colab": {
      "provenance": [],
      "gpuType": "T4"
    },
    "kernelspec": {
      "display_name": "Python 3",
      "name": "python3"
    },
    "language_info": {
      "name": "python"
    },
    "accelerator": "GPU"
  },
  "nbformat": 4,
  "nbformat_minor": 0
}